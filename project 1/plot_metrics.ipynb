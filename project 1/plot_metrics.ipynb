{
 "cells": [
  {
   "cell_type": "code",
   "execution_count": 30,
   "metadata": {
    "tags": []
   },
   "outputs": [],
   "source": [
    "# Train_acc, test_acc plot\n",
    "\n",
    "import json\n",
    "import matplotlib.pyplot as plt\n",
    "\n",
    "model = 'es_test'\n",
    "\n",
    "with open('results/' + model + '.json') as f:\n",
    "    json_content = json.load(f)\n",
    "\n",
    "plt.plot(json_content['metrics']['train_acc'], label='train')\n",
    "plt.plot(json_content['metrics']['test_acc'], label='test')\n",
    "plt.ylabel('Acc')\n",
    "plt.xlabel('Epochs')\n",
    "\n",
    "plt.savefig('./plots/' + model + '_acc.png')\n",
    "plt.show()"
   ]
  },
  {
   "cell_type": "code",
   "execution_count": 37,
   "metadata": {},
   "outputs": [
    {
     "name": "stdout",
     "output_type": "stream",
     "text": [
      "Training time: 72.99022459983826\n"
     ]
    }
   ],
   "source": [
    "print('Training time: ' + str(json_content['metrics']['train_time']))"
   ]
  },
  {
   "cell_type": "code",
   "execution_count": null,
   "metadata": {
    "collapsed": false
   },
   "outputs": [
    {
     "ename": "IndexError",
     "evalue": "list index out of range",
     "traceback": [
      "\u001b[1;31m---------------------------------------------------------------------------\u001b[0m",
      "\u001b[1;31mIndexError\u001b[0m                                Traceback (most recent call last)",
      "\u001b[1;32m<ipython-input-60-2b6b3f37c036>\u001b[0m in \u001b[0;36m<module>\u001b[1;34m()\u001b[0m\n\u001b[0;32m      2\u001b[0m \u001b[1;33m\u001b[0m\u001b[0m\n\u001b[0;32m      3\u001b[0m \u001b[1;33m\u001b[0m\u001b[0m\n\u001b[1;32m----> 4\u001b[1;33m \u001b[0mprint\u001b[0m\u001b[1;33m(\u001b[0m\u001b[0mjson_content\u001b[0m\u001b[1;33m[\u001b[0m\u001b[1;34m'metrics'\u001b[0m\u001b[1;33m]\u001b[0m\u001b[1;33m[\u001b[0m\u001b[1;34m'roc_auc'\u001b[0m\u001b[1;33m]\u001b[0m\u001b[1;33m[\u001b[0m\u001b[0mjson_content\u001b[0m\u001b[1;33m[\u001b[0m\u001b[1;34m'args'\u001b[0m\u001b[1;33m]\u001b[0m\u001b[1;33m[\u001b[0m\u001b[1;34m'num_epochs'\u001b[0m\u001b[1;33m]\u001b[0m\u001b[1;33m]\u001b[0m\u001b[1;33m)\u001b[0m\u001b[1;33m\u001b[0m\u001b[1;33m\u001b[0m\u001b[0m\n\u001b[0m\u001b[0;32m      5\u001b[0m \u001b[1;33m\u001b[0m\u001b[0m\n",
      "\u001b[1;31mIndexError\u001b[0m: list index out of range"
     ],
     "output_type": "error"
    }
   ],
   "source": [
    "# AUROC plot\n",
    "\n",
    "index = json_content['args']['num_epochs'] - 1\n",
    "print(json_content['metrics']['roc_auc'][index])\n",
    "\n"
   ]
  },
  {
   "cell_type": "code",
   "execution_count": 4,
   "metadata": {
    "tags": []
   },
   "outputs": [
    {
     "data": {
      "image/png": "[encoded data removed]",
      "text/plain": [
       "<Figure size 432x288 with 1 Axes>"
      ]
     },
     "metadata": {
      "needs_background": "light"
     },
     "output_type": "display_data"
    }
   ],
   "source": [
    "import numpy as np\n",
    "import matplotlib.pyplot as plt\n",
    "import json\n",
    "\n",
    "modelAccs = {'goalNet' : None} \n",
    "\n",
    "for model in modelAccs:\n",
    "    with open('results/' + model + '.json') as f:\n",
    "        json_content = json.load(f)\n",
    "        modelAccs[model] = json_content[\"metrics\"][\"test_acc\"][-1]\n",
    "# Make a fake dataset:\n",
    "accs = [modelAccs[model] for model in modelAccs]\n",
    "bars = (model for model in modelAccs)\n",
    "y_pos = np.arange(len(accs))\n",
    " \n",
    "# Create bars\n",
    "plt.bar(y_pos, accs, ylab=\"districts and years\")\n",
    " \n",
    "# Create names on the x-axis\n",
    "plt.xticks(y_pos, bars)\n",
    " \n",
    "# Show graphic\n",
    "plt.show()\n"
   ]
  },
  {
   "cell_type": "code",
   "execution_count": 31,
   "metadata": {},
   "outputs": [],
   "source": [
    "# Train_loss, test_loss plot\n",
    "\n",
    "plt.plot(json_content['metrics']['train_loss'], label='train')\n",
    "plt.plot(json_content['metrics']['test_loss'], label='test')\n",
    "plt.ylabel('Loss')\n",
    "plt.xlabel('Epochs')\n",
    "\n",
    "#plt.savefig('./plots/' + model + '_acc.png')\n",
    "plt.show()"
   ]
  },
  {
   "cell_type": "code",
   "execution_count": null,
   "metadata": {},
   "outputs": [],
   "source": []
  }
 ],
 "metadata": {
  "language_info": {
   "codemirror_mode": {
    "name": "ipython",
    "version": 3
   },
   "file_extension": ".py",
   "mimetype": "text/x-python",
   "name": "python",
   "nbconvert_exporter": "python",
   "pygments_lexer": "ipython3",
   "version": "3.7.6-final"
  },
  "orig_nbformat": 2.0,
  "kernelspec": {
   "name": "python37664bitvickevirtualenv943f24e43a184cfaadfe3894a2c5ce8d",
   "display_name": "Python 3.7.6 64-bit ('vicke': virtualenv)"
  }
 },
 "nbformat": 4,
 "nbformat_minor": 2
}
